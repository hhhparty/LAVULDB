{
 "cells": [
  {
   "cell_type": "code",
   "execution_count": 18,
   "metadata": {
    "collapsed": false
   },
   "outputs": [
    {
     "name": "stdout",
     "output_type": "stream",
     "text": [
      "--------------------{http://www.cnnvd.org.cn/vuln/1.0}entry\n",
      "Redis 整数溢出漏洞\n",
      "CNNVD-201511-360\n",
      "Redis是美国Redis Labs公司赞助的一套开源的使用ANSI C编写、支持网络、可基于内存亦可持久化的日志型、键值（Key-Value）存储数据库，并提供多种语言的API。\n",
      "Redis 2.8.24之前2.8.x版本和3.0.6之前3.0.x版本的lua_struct.c文件中的‘getnum’函数存在整数溢出漏洞。远程攻击者可借助较大的数字利用该漏洞造成拒绝服务（内存损坏和应用程序崩溃）。\n",
      "\n",
      "--------------------{http://www.cnnvd.org.cn/vuln/1.0}entry\n",
      "IBM InfoSphere BigInsights 不可信搜索路径漏洞\n",
      "CNNVD-201512-706\n",
      "IBM InfoSphere BigInsights是美国IBM公司的一套用于储存和分析 “大数据” 的软件平台。该平台为管理和分析海量的结构化和非结构化数据提供了解决方案。\n",
      "IBM InfoSphere BigInsights中存在不可信搜索路径漏洞。当使用DB2数据时，本地攻击者可借助木马库利用该漏洞获取权限。以下版本受到影响：IBM InfoSphere BigInsights 3.0、3.0.0.1、3.0.0.2、4.0。\n",
      "\n",
      "--------------------{http://www.cnnvd.org.cn/vuln/1.0}entry\n",
      "IBM WebSphere Process Server和Business Process Manager Advanced 安全漏洞\n",
      "CNNVD-201512-707\n",
      "IBM WebSphere Process Server和Business Process Manager（BPM）Advanced都是美国IBM公司的产品。IBM WebSphere Process Server是一套业务流程自动化引擎；BPM是一套综合的业务流程管理平台，BPM Advanced是一个高级版。\n",
      "IBM WebSphere Process Server和BPM Advanced中的Remote Artifact Loader (RAL)存在安全漏洞，该漏洞源于程序没有正确使用HTTPS连接的SSL。远程攻击者可利用该漏洞获取敏感信息或修改数据。以下版本受到影响：IBM WebSphere Process Server 7版本，Business Process Manager Advanced 7.5至7.5.1.2版本，8.0至8.0.1.3版本，8.5.0至8.5.0.2版本，8.5.5至8.5.5.0版本，8.5.6至8.5.6.2版本。\n",
      "\n",
      "--------------------{http://www.cnnvd.org.cn/vuln/1.0}entry\n",
      "IBM SPSS Statistics 安全漏洞\n",
      "CNNVD-201512-708\n",
      "IBM SPSS Statistics是美国IBM公司的一套统计分析软件，它能够帮助企业解决从计划和数据收集到分析、报告和部署的整个分析过程中的问题。\n",
      "IBM SPSS Statistics 22.0.0.2版本和23.0.0.2版本中存在安全漏洞，该漏洞源于程序为Python脚本分配弱权限（全局可写）。本地攻击者可通过修改脚本利用该漏洞获取权限。\n",
      "\n",
      "--------------------{http://www.cnnvd.org.cn/vuln/1.0}entry\n",
      "IBM UrbanCode Deploy 跨站脚本漏洞\n",
      "CNNVD-201601-001\n",
      "IBM UrbanCode Deploy（UCD）是美国IBM公司的一套应用自动化部署工具。该工具基于一个完善的应用部署自动化管理信息模型，提供可视化的部署逻辑设计手段，并通过远程代理技术，实现对复杂应用在不同环境下的自动化部署。\n",
      "IBM UCD中存在跨站脚本漏洞。远程攻击者可借助特制的URL利用该漏洞注入任意Web脚本或HTML。以下版本受到影响：IBM UCD 6.0.1.12之前的6.0版本，6.1.3.2之前的6.1版本及6.2.0.2之前的6.2版本。\n",
      "\n",
      "--------------------{http://www.cnnvd.org.cn/vuln/1.0}entry\n",
      "IBM MQ M2000 Appliance GSKit 安全漏洞\n",
      "CNNVD-201601-002\n",
      "IBM MQ M2000 Appliance是美国IBM公司的一款用于快速部署企业级消息中间件的一体机设备。GSKit是其中的一套安全管理工具。\n",
      "IBM MQ M2000 Appliance 8.0.0.4之前的版本中的GSKit存在安全漏洞。远程攻击者可利用该漏洞获取敏感信息。\n",
      "\n",
      "--------------------{http://www.cnnvd.org.cn/vuln/1.0}entry\n",
      "IBM Security QRadar SIEM 跨站脚本漏洞\n",
      "CNNVD-201601-003\n",
      "IBM Security QRadar SIEM是美国IBM公司的一套可对分散在整个网络中的数千个设备和应用中的日志源事件数据进行整合的解决方案。该方案可以原始形式存储每个活动，然后执行即时关联活动，以区分实际威胁和误报。\n",
      "IBM Security QRadar SIEM 7.2.6之前的7.2.x版本中存在跨站脚本漏洞。远程攻击者可借助特制的字段利用该漏洞注入任意Web脚本或HTML。\n",
      "\n",
      "--------------------{http://www.cnnvd.org.cn/vuln/1.0}entry\n",
      "IBM Spectrum Scale 信息泄露漏洞\n",
      "CNNVD-201601-004\n",
      "IBM Spectrum Scale是美国IBM公司的一套基于IBM GPFS（专为PB级存储管理而优化的企业文件管理系统）的可扩展的数据及文件管理解决方案。该方案支持帮助客户减少存储成本，同时提高云、大数据和分析环境中的安全性和管理效率等。\n",
      "IBM Spectrum Scale 4.1.1至4.1.1.3版本和4.2.0.0版本中存在安全漏洞。远程攻击者可利用该漏洞发现object-storage admin密码。\n",
      "\n",
      "--------------------{http://www.cnnvd.org.cn/vuln/1.0}entry\n",
      "IBM Tealeaf Customer Experience 信息泄露漏洞\n",
      "CNNVD-201601-005\n",
      "IBM Tealeaf Customer Experience是美国IBM公司的一套基于SaaS（软件即服务）的网络和移动应用分析解决方案。该方案通过对数据的分析了解帮助客户提高整体用户体验，并支持采用先进的用户界面丰富可视化和进行数据探索等。\n",
      "IBM Tealeaf Customer Experience中的门户网站客户端存在安全漏洞。远程攻击者可通过指定内部图标名称利用该漏洞读取任意图表。以下版本受到影响：IBM Tealeaf Customer Experience 8.7.1.8814之前的版本，8.8.0.9026之前的8.8版本，9.0.0版本，9.0.0A版本，9.0.1.1083之前的9.0.1版本，9.0.1.5073之前的9.0.1A版本，9.0.2.1095之前的9.0.2版本，9.0.2.5144之前的9.0.2A版本。\n",
      "\n",
      "--------------------{http://www.cnnvd.org.cn/vuln/1.0}entry\n",
      "IBM Tealeaf Customer Experience 安全漏洞\n",
      "CNNVD-201601-006\n",
      "IBM Tealeaf Customer Experience是美国IBM公司的一套基于SaaS（软件即服务）的网络和移动应用分析解决方案。该方案通过对数据的分析了解帮助客户提高整体用户体验，并支持采用先进的用户界面丰富可视化和进行数据探索等。\n",
      "IBM Tealeaf Customer Experience中的门户网站客户端存在安全漏洞。本地攻击者可利用该漏洞发现用户证书。以下版本受到影响：IBM Tealeaf Customer Experience 8.7.1.8818之前的版本，8.8.0.9026之前的8.8版本，9.0.0版本，9.0.0A版本，9.0.1.1083之前的9.0.1版本，9.0.1.5073之前的9.0.1A版本，9.0.2.1095之前的9.0.2版本，9.0.2.5144之前的9.0.2A版本。\n",
      "\n"
     ]
    }
   ],
   "source": [
    "import xml.etree.ElementTree as ET\n",
    "\n",
    "#使用elementtree打开xml文件\n",
    "tree = ET.parse('test.xml')\n",
    "root = tree.getroot()\n",
    "\n",
    "#另一方法\n",
    "#root = ET.fromstring(country_data_as_string)\n",
    "\n",
    "#namespace dict\n",
    "ns = {\"cnnvd_vuln\": \"http://www.cnnvd.org.cn/vuln/1.0\",\"cnnvd_xsi\":'http://www.w3.org/2001/XMLSchema-instance'}\n",
    "\n",
    "\n",
    "        \n",
    "def parseEntry(entryObj):\n",
    "    name = entryObj.find('cnnvd_vuln:name',ns)\n",
    "    print(name.text)\n",
    "    vuln_id = entryObj.find('cnnvd_vuln:vuln-id',ns)\n",
    "    print(vuln_id.text)\n",
    "    vuln_descript = entryObj.find('cnnvd_vuln:vuln-descript',ns)\n",
    "    print(vuln_descript.text)\n",
    "            \n",
    "for entry in root.findall('cnnvd_vuln:entry',ns):\n",
    "    print(\"--------------------\"+entry.tag)\n",
    "    parseEntry(entry)"
   ]
  },
  {
   "cell_type": "code",
   "execution_count": null,
   "metadata": {
    "collapsed": true
   },
   "outputs": [],
   "source": []
  },
  {
   "cell_type": "code",
   "execution_count": null,
   "metadata": {
    "collapsed": true
   },
   "outputs": [],
   "source": []
  }
 ],
 "metadata": {
  "kernelspec": {
   "display_name": "Python [Root]",
   "language": "python",
   "name": "Python [Root]"
  },
  "language_info": {
   "codemirror_mode": {
    "name": "ipython",
    "version": 3
   },
   "file_extension": ".py",
   "mimetype": "text/x-python",
   "name": "python",
   "nbconvert_exporter": "python",
   "pygments_lexer": "ipython3",
   "version": "3.5.2"
  }
 },
 "nbformat": 4,
 "nbformat_minor": 0
}
